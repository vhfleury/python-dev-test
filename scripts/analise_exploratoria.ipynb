{
 "cells": [
  {
   "cell_type": "code",
   "execution_count": 1,
   "id": "86ac2679",
   "metadata": {},
   "outputs": [],
   "source": [
    "from sklearn.linear_model import LinearRegression\n",
    "import statsmodels.api as sm\n",
    "import matplotlib.pyplot as plt\n",
    "import pandas as pd\n",
    "import sqlite3"
   ]
  },
  {
   "cell_type": "code",
   "execution_count": 2,
   "id": "f35a97ad",
   "metadata": {},
   "outputs": [],
   "source": [
    "coon = sqlite3.connect(\"../data/adult.db\")\n",
    "df = pd.read_sql_query('''select * from adult;''', coon)"
   ]
  },
  {
   "cell_type": "code",
   "execution_count": 49,
   "id": "26d4d7fb",
   "metadata": {},
   "outputs": [],
   "source": [
    "df.dropna(inplace=True)"
   ]
  },
  {
   "cell_type": "code",
   "execution_count": 51,
   "id": "dfbb3ade",
   "metadata": {},
   "outputs": [
    {
     "name": "stdout",
     "output_type": "stream",
     "text": [
      "<class 'pandas.core.frame.DataFrame'>\n",
      "Int64Index: 135666 entries, 0 to 146525\n",
      "Data columns (total 16 columns):\n",
      " #   Column          Non-Null Count   Dtype \n",
      "---  ------          --------------   ----- \n",
      " 0   ID_adult        135666 non-null  int64 \n",
      " 1   age             135666 non-null  int64 \n",
      " 2   workclass       135666 non-null  object\n",
      " 3   fnlwgt          135666 non-null  int64 \n",
      " 4   education       135666 non-null  object\n",
      " 5   education_num   135666 non-null  int64 \n",
      " 6   marital_status  135666 non-null  object\n",
      " 7   occupation      135666 non-null  object\n",
      " 8   relationship    135666 non-null  object\n",
      " 9   race            135666 non-null  object\n",
      " 10  sex             135666 non-null  object\n",
      " 11  capital_gain    135666 non-null  int64 \n",
      " 12  capital_loss    135666 non-null  int64 \n",
      " 13  hours_per_week  135666 non-null  int64 \n",
      " 14  native_country  135666 non-null  object\n",
      " 15  class           135666 non-null  object\n",
      "dtypes: int64(7), object(9)\n",
      "memory usage: 17.6+ MB\n"
     ]
    }
   ],
   "source": [
    "df.info()"
   ]
  },
  {
   "cell_type": "code",
   "execution_count": 55,
   "id": "12249355",
   "metadata": {},
   "outputs": [
    {
     "data": {
      "text/html": [
       "<div>\n",
       "<style scoped>\n",
       "    .dataframe tbody tr th:only-of-type {\n",
       "        vertical-align: middle;\n",
       "    }\n",
       "\n",
       "    .dataframe tbody tr th {\n",
       "        vertical-align: top;\n",
       "    }\n",
       "\n",
       "    .dataframe thead th {\n",
       "        text-align: right;\n",
       "    }\n",
       "</style>\n",
       "<table border=\"1\" class=\"dataframe\">\n",
       "  <thead>\n",
       "    <tr style=\"text-align: right;\">\n",
       "      <th></th>\n",
       "      <th>ID_adult</th>\n",
       "      <th>age</th>\n",
       "      <th>fnlwgt</th>\n",
       "      <th>education_num</th>\n",
       "      <th>capital_gain</th>\n",
       "      <th>capital_loss</th>\n",
       "      <th>hours_per_week</th>\n",
       "    </tr>\n",
       "  </thead>\n",
       "  <tbody>\n",
       "    <tr>\n",
       "      <th>count</th>\n",
       "      <td>135666.000000</td>\n",
       "      <td>135666.000000</td>\n",
       "      <td>1.356660e+05</td>\n",
       "      <td>135666.000000</td>\n",
       "      <td>135666.000000</td>\n",
       "      <td>135666.000000</td>\n",
       "      <td>135666.000000</td>\n",
       "    </tr>\n",
       "    <tr>\n",
       "      <th>mean</th>\n",
       "      <td>73276.151563</td>\n",
       "      <td>38.545973</td>\n",
       "      <td>1.897330e+05</td>\n",
       "      <td>10.118460</td>\n",
       "      <td>1101.430344</td>\n",
       "      <td>88.595418</td>\n",
       "      <td>40.936690</td>\n",
       "    </tr>\n",
       "    <tr>\n",
       "      <th>std</th>\n",
       "      <td>42296.349161</td>\n",
       "      <td>13.220199</td>\n",
       "      <td>1.056409e+05</td>\n",
       "      <td>2.552862</td>\n",
       "      <td>7506.374753</td>\n",
       "      <td>404.953107</td>\n",
       "      <td>12.008628</td>\n",
       "    </tr>\n",
       "    <tr>\n",
       "      <th>min</th>\n",
       "      <td>1.000000</td>\n",
       "      <td>0.000000</td>\n",
       "      <td>0.000000e+00</td>\n",
       "      <td>1.000000</td>\n",
       "      <td>0.000000</td>\n",
       "      <td>0.000000</td>\n",
       "      <td>0.000000</td>\n",
       "    </tr>\n",
       "    <tr>\n",
       "      <th>25%</th>\n",
       "      <td>36631.250000</td>\n",
       "      <td>28.000000</td>\n",
       "      <td>1.173870e+05</td>\n",
       "      <td>9.000000</td>\n",
       "      <td>0.000000</td>\n",
       "      <td>0.000000</td>\n",
       "      <td>40.000000</td>\n",
       "    </tr>\n",
       "    <tr>\n",
       "      <th>50%</th>\n",
       "      <td>73313.000000</td>\n",
       "      <td>37.000000</td>\n",
       "      <td>1.783160e+05</td>\n",
       "      <td>10.000000</td>\n",
       "      <td>0.000000</td>\n",
       "      <td>0.000000</td>\n",
       "      <td>40.000000</td>\n",
       "    </tr>\n",
       "    <tr>\n",
       "      <th>75%</th>\n",
       "      <td>109890.750000</td>\n",
       "      <td>47.000000</td>\n",
       "      <td>2.379280e+05</td>\n",
       "      <td>13.000000</td>\n",
       "      <td>0.000000</td>\n",
       "      <td>0.000000</td>\n",
       "      <td>45.000000</td>\n",
       "    </tr>\n",
       "    <tr>\n",
       "      <th>max</th>\n",
       "      <td>146526.000000</td>\n",
       "      <td>90.000000</td>\n",
       "      <td>1.490400e+06</td>\n",
       "      <td>16.000000</td>\n",
       "      <td>99999.000000</td>\n",
       "      <td>4356.000000</td>\n",
       "      <td>99.000000</td>\n",
       "    </tr>\n",
       "  </tbody>\n",
       "</table>\n",
       "</div>"
      ],
      "text/plain": [
       "            ID_adult            age        fnlwgt  education_num  \\\n",
       "count  135666.000000  135666.000000  1.356660e+05  135666.000000   \n",
       "mean    73276.151563      38.545973  1.897330e+05      10.118460   \n",
       "std     42296.349161      13.220199  1.056409e+05       2.552862   \n",
       "min         1.000000       0.000000  0.000000e+00       1.000000   \n",
       "25%     36631.250000      28.000000  1.173870e+05       9.000000   \n",
       "50%     73313.000000      37.000000  1.783160e+05      10.000000   \n",
       "75%    109890.750000      47.000000  2.379280e+05      13.000000   \n",
       "max    146526.000000      90.000000  1.490400e+06      16.000000   \n",
       "\n",
       "        capital_gain   capital_loss  hours_per_week  \n",
       "count  135666.000000  135666.000000   135666.000000  \n",
       "mean     1101.430344      88.595418       40.936690  \n",
       "std      7506.374753     404.953107       12.008628  \n",
       "min         0.000000       0.000000        0.000000  \n",
       "25%         0.000000       0.000000       40.000000  \n",
       "50%         0.000000       0.000000       40.000000  \n",
       "75%         0.000000       0.000000       45.000000  \n",
       "max     99999.000000    4356.000000       99.000000  "
      ]
     },
     "execution_count": 55,
     "metadata": {},
     "output_type": "execute_result"
    }
   ],
   "source": [
    "df.describe()"
   ]
  },
  {
   "cell_type": "code",
   "execution_count": null,
   "id": "cbf1de5e",
   "metadata": {},
   "outputs": [],
   "source": []
  },
  {
   "cell_type": "code",
   "execution_count": 5,
   "id": "1cc81de5",
   "metadata": {},
   "outputs": [],
   "source": [
    "sexo = dict(df['sex'].value_counts())"
   ]
  },
  {
   "cell_type": "code",
   "execution_count": 6,
   "id": "644e12e6",
   "metadata": {},
   "outputs": [
    {
     "name": "stdout",
     "output_type": "stream",
     "text": [
      "na tabela, temos no total 146526 registro, 97950 sao homens, representando 66.85% e mulheres representam 33.15%, total de 48576\n"
     ]
    }
   ],
   "source": [
    "print(f\"na tabela, temos no total {df.shape[0]} registro, {sexo['male']} sao homens, representando {round((sexo['male']/df.shape[0])*100, 2)}%\" + \n",
    "f\" e mulheres representam {round((sexo['female']/df.shape[0])*100, 2)}%, total de {sexo['female']}\")"
   ]
  },
  {
   "cell_type": "code",
   "execution_count": 7,
   "id": "31a977ce",
   "metadata": {},
   "outputs": [
    {
     "data": {
      "image/png": "[encoded data removed]",
      "text/plain": [
       "<Figure size 432x288 with 1 Axes>"
      ]
     },
     "metadata": {
      "needs_background": "light"
     },
     "output_type": "display_data"
    }
   ],
   "source": [
    "plt.hist(df['sex'], bins=3)\n",
    "plt.show() "
   ]
  },
  {
   "cell_type": "code",
   "execution_count": 8,
   "id": "a3dee8e6",
   "metadata": {},
   "outputs": [],
   "source": [
    "clase = dict(df['class'].value_counts())"
   ]
  },
  {
   "cell_type": "code",
   "execution_count": 9,
   "id": "b1af96de",
   "metadata": {},
   "outputs": [
    {
     "data": {
      "text/plain": [
       "{'<=50k': 111465, '>50k': 35061}"
      ]
     },
     "execution_count": 9,
     "metadata": {},
     "output_type": "execute_result"
    }
   ],
   "source": [
    "clase"
   ]
  },
  {
   "cell_type": "code",
   "execution_count": 10,
   "id": "f2401e5e",
   "metadata": {},
   "outputs": [
    {
     "data": {
      "text/plain": [
       "'na tabela, 111465 (76.07%) tem uma renda inferior a 50 mil dolares, e apenas 35061 (23.93%) uma renda superior a 50 mil'"
      ]
     },
     "execution_count": 10,
     "metadata": {},
     "output_type": "execute_result"
    }
   ],
   "source": [
    "f\"na tabela, {clase['<=50k']} ({round((clase['<=50k']/df.shape[0])*100, 2)}%) tem uma renda inferior a 50 mil dolares, e apenas {clase['>50k']} ({round((clase['>50k']/df.shape[0])*100, 2)}%) uma renda superior a 50 mil\""
   ]
  },
  {
   "cell_type": "code",
   "execution_count": 11,
   "id": "6aab791f",
   "metadata": {},
   "outputs": [
    {
     "data": {
      "image/png": "[encoded data removed]",
      "text/plain": [
       "<Figure size 432x288 with 1 Axes>"
      ]
     },
     "metadata": {
      "needs_background": "light"
     },
     "output_type": "display_data"
    }
   ],
   "source": [
    "plt.hist(df['class'], bins=3)\n",
    "plt.show() "
   ]
  },
  {
   "cell_type": "code",
   "execution_count": 12,
   "id": "b2ea2837",
   "metadata": {},
   "outputs": [],
   "source": [
    "mulheres = df[(df['sex'] == \"female\") & (df['class'] == \">50k\")]"
   ]
  },
  {
   "cell_type": "code",
   "execution_count": 13,
   "id": "083f3042",
   "metadata": {},
   "outputs": [],
   "source": [
    "homens = df[(df['sex'] == \"male\") & (df['class'] == \">50k\")]"
   ]
  },
  {
   "cell_type": "code",
   "execution_count": 14,
   "id": "2f58ffc0",
   "metadata": {},
   "outputs": [
    {
     "data": {
      "text/plain": [
       "'5307 mulheres (15.14%) tem uma renda superior a 50 mil'"
      ]
     },
     "execution_count": 14,
     "metadata": {},
     "output_type": "execute_result"
    }
   ],
   "source": [
    "f\"{mulheres.shape[0]} mulheres ({round((mulheres.shape[0]/clase['>50k'])*100, 2)}%) tem uma renda superior a 50 mil\""
   ]
  },
  {
   "cell_type": "code",
   "execution_count": 15,
   "id": "c49f8423",
   "metadata": {},
   "outputs": [
    {
     "data": {
      "image/png": "[encoded data removed]",
      "text/plain": [
       "<Figure size 432x288 with 1 Axes>"
      ]
     },
     "metadata": {
      "needs_background": "light"
     },
     "output_type": "display_data"
    }
   ],
   "source": [
    "plt.hist(df[df['class'] == \">50k\"][\"sex\"], bins=3)\n",
    "plt.show() "
   ]
  },
  {
   "cell_type": "code",
   "execution_count": 16,
   "id": "3a7305a1",
   "metadata": {},
   "outputs": [],
   "source": [
    "brancos = df[(df['class'] == \">50k\") & (df['race'] == \"white\")]"
   ]
  },
  {
   "cell_type": "code",
   "execution_count": 17,
   "id": "44b0a65f",
   "metadata": {},
   "outputs": [
    {
     "data": {
      "text/plain": [
       "'nos dados, 31821 (90.76%) brancos representao uma renda maior que 50 mil'"
      ]
     },
     "execution_count": 17,
     "metadata": {},
     "output_type": "execute_result"
    }
   ],
   "source": [
    "f\"nos dados, {brancos.shape[0]} ({round((brancos.shape[0]/clase['>50k'])*100, 2)}%) brancos representao uma renda maior que 50 mil\""
   ]
  },
  {
   "cell_type": "code",
   "execution_count": 18,
   "id": "f708b200",
   "metadata": {
    "scrolled": true
   },
   "outputs": [
    {
     "data": {
      "image/png": "[encoded data removed]",
      "text/plain": [
       "<Figure size 432x288 with 1 Axes>"
      ]
     },
     "metadata": {
      "needs_background": "light"
     },
     "output_type": "display_data"
    }
   ],
   "source": [
    "plt.hist(df[df['class'] == \">50k\"][\"race\"])\n",
    "plt.show() "
   ]
  },
  {
   "cell_type": "code",
   "execution_count": 19,
   "id": "1ba229c7",
   "metadata": {},
   "outputs": [
    {
     "data": {
      "image/png": "[encoded data removed]",
      "text/plain": [
       "<Figure size 432x288 with 1 Axes>"
      ]
     },
     "metadata": {
      "needs_background": "light"
     },
     "output_type": "display_data"
    }
   ],
   "source": [
    "plt.hist(df[df['class'] == \">50k\"][\"hours_per_week\"])\n",
    "plt.show() "
   ]
  },
  {
   "cell_type": "code",
   "execution_count": 20,
   "id": "a6aca439",
   "metadata": {},
   "outputs": [],
   "source": [
    "# regressao linear"
   ]
  },
  {
   "cell_type": "code",
   "execution_count": 21,
   "id": "198d32b7",
   "metadata": {},
   "outputs": [
    {
     "data": {
      "text/html": [
       "<div>\n",
       "<style scoped>\n",
       "    .dataframe tbody tr th:only-of-type {\n",
       "        vertical-align: middle;\n",
       "    }\n",
       "\n",
       "    .dataframe tbody tr th {\n",
       "        vertical-align: top;\n",
       "    }\n",
       "\n",
       "    .dataframe thead th {\n",
       "        text-align: right;\n",
       "    }\n",
       "</style>\n",
       "<table border=\"1\" class=\"dataframe\">\n",
       "  <thead>\n",
       "    <tr style=\"text-align: right;\">\n",
       "      <th></th>\n",
       "      <th>ID_adult</th>\n",
       "      <th>age</th>\n",
       "      <th>workclass</th>\n",
       "      <th>fnlwgt</th>\n",
       "      <th>education</th>\n",
       "      <th>education_num</th>\n",
       "      <th>marital_status</th>\n",
       "      <th>occupation</th>\n",
       "      <th>relationship</th>\n",
       "      <th>race</th>\n",
       "      <th>sex</th>\n",
       "      <th>capital_gain</th>\n",
       "      <th>capital_loss</th>\n",
       "      <th>hours_per_week</th>\n",
       "      <th>native_country</th>\n",
       "      <th>class</th>\n",
       "    </tr>\n",
       "  </thead>\n",
       "  <tbody>\n",
       "    <tr>\n",
       "      <th>0</th>\n",
       "      <td>1</td>\n",
       "      <td>25</td>\n",
       "      <td>private</td>\n",
       "      <td>226802</td>\n",
       "      <td>11th</td>\n",
       "      <td>7</td>\n",
       "      <td>never-married</td>\n",
       "      <td>machine-op-inspct</td>\n",
       "      <td>own-child</td>\n",
       "      <td>black</td>\n",
       "      <td>male</td>\n",
       "      <td>0</td>\n",
       "      <td>0</td>\n",
       "      <td>40</td>\n",
       "      <td>united-states</td>\n",
       "      <td>&lt;=50k</td>\n",
       "    </tr>\n",
       "    <tr>\n",
       "      <th>1</th>\n",
       "      <td>2</td>\n",
       "      <td>38</td>\n",
       "      <td>private</td>\n",
       "      <td>89814</td>\n",
       "      <td>hs-grad</td>\n",
       "      <td>9</td>\n",
       "      <td>married-civ-spouse</td>\n",
       "      <td>farming-fishing</td>\n",
       "      <td>husband</td>\n",
       "      <td>white</td>\n",
       "      <td>male</td>\n",
       "      <td>0</td>\n",
       "      <td>0</td>\n",
       "      <td>50</td>\n",
       "      <td>united-states</td>\n",
       "      <td>&lt;=50k</td>\n",
       "    </tr>\n",
       "    <tr>\n",
       "      <th>2</th>\n",
       "      <td>3</td>\n",
       "      <td>28</td>\n",
       "      <td>local-gov</td>\n",
       "      <td>336951</td>\n",
       "      <td>assoc-acdm</td>\n",
       "      <td>12</td>\n",
       "      <td>married-civ-spouse</td>\n",
       "      <td>protective-serv</td>\n",
       "      <td>husband</td>\n",
       "      <td>white</td>\n",
       "      <td>male</td>\n",
       "      <td>0</td>\n",
       "      <td>0</td>\n",
       "      <td>40</td>\n",
       "      <td>united-states</td>\n",
       "      <td>&gt;50k</td>\n",
       "    </tr>\n",
       "    <tr>\n",
       "      <th>3</th>\n",
       "      <td>4</td>\n",
       "      <td>44</td>\n",
       "      <td>private</td>\n",
       "      <td>160323</td>\n",
       "      <td>some-college</td>\n",
       "      <td>10</td>\n",
       "      <td>married-civ-spouse</td>\n",
       "      <td>machine-op-inspct</td>\n",
       "      <td>husband</td>\n",
       "      <td>black</td>\n",
       "      <td>male</td>\n",
       "      <td>7688</td>\n",
       "      <td>0</td>\n",
       "      <td>40</td>\n",
       "      <td>united-states</td>\n",
       "      <td>&gt;50k</td>\n",
       "    </tr>\n",
       "    <tr>\n",
       "      <th>4</th>\n",
       "      <td>5</td>\n",
       "      <td>18</td>\n",
       "      <td>None</td>\n",
       "      <td>103497</td>\n",
       "      <td>some-college</td>\n",
       "      <td>10</td>\n",
       "      <td>never-married</td>\n",
       "      <td>None</td>\n",
       "      <td>own-child</td>\n",
       "      <td>white</td>\n",
       "      <td>female</td>\n",
       "      <td>0</td>\n",
       "      <td>0</td>\n",
       "      <td>30</td>\n",
       "      <td>united-states</td>\n",
       "      <td>&lt;=50k</td>\n",
       "    </tr>\n",
       "  </tbody>\n",
       "</table>\n",
       "</div>"
      ],
      "text/plain": [
       "   ID_adult  age  workclass  fnlwgt     education  education_num  \\\n",
       "0         1   25    private  226802          11th              7   \n",
       "1         2   38    private   89814       hs-grad              9   \n",
       "2         3   28  local-gov  336951    assoc-acdm             12   \n",
       "3         4   44    private  160323  some-college             10   \n",
       "4         5   18       None  103497  some-college             10   \n",
       "\n",
       "       marital_status         occupation relationship   race     sex  \\\n",
       "0       never-married  machine-op-inspct    own-child  black    male   \n",
       "1  married-civ-spouse    farming-fishing      husband  white    male   \n",
       "2  married-civ-spouse    protective-serv      husband  white    male   \n",
       "3  married-civ-spouse  machine-op-inspct      husband  black    male   \n",
       "4       never-married               None    own-child  white  female   \n",
       "\n",
       "   capital_gain  capital_loss  hours_per_week native_country  class  \n",
       "0             0             0              40  united-states  <=50k  \n",
       "1             0             0              50  united-states  <=50k  \n",
       "2             0             0              40  united-states   >50k  \n",
       "3          7688             0              40  united-states   >50k  \n",
       "4             0             0              30  united-states  <=50k  "
      ]
     },
     "execution_count": 21,
     "metadata": {},
     "output_type": "execute_result"
    }
   ],
   "source": [
    "df.head()"
   ]
  },
  {
   "cell_type": "code",
   "execution_count": 44,
   "id": "b73e72e2",
   "metadata": {},
   "outputs": [],
   "source": [
    "import numpy as np"
   ]
  },
  {
   "cell_type": "code",
   "execution_count": 45,
   "id": "3539fe36",
   "metadata": {},
   "outputs": [],
   "source": [
    "novo_valor = list()\n",
    "\n",
    "for n in list(df['class']):\n",
    "    \n",
    "    if n == \"<=50k\":\n",
    "        novo_valor.append(0)\n",
    "    else:\n",
    "        novo_valor.append(1)"
   ]
  },
  {
   "cell_type": "code",
   "execution_count": 46,
   "id": "61f112f0",
   "metadata": {},
   "outputs": [],
   "source": [
    "X = np.array(list(df['hours_per_week']))\n",
    "y = np.array(novo_valor)"
   ]
  },
  {
   "cell_type": "code",
   "execution_count": 48,
   "id": "697ee9bd",
   "metadata": {},
   "outputs": [
    {
     "data": {
      "text/html": [
       "<table class=\"simpletable\">\n",
       "<caption>OLS Regression Results</caption>\n",
       "<tr>\n",
       "  <th>Dep. Variable:</th>            <td>y</td>        <th>  R-squared:         </th> <td>   0.052</td> \n",
       "</tr>\n",
       "<tr>\n",
       "  <th>Model:</th>                   <td>OLS</td>       <th>  Adj. R-squared:    </th> <td>   0.052</td> \n",
       "</tr>\n",
       "<tr>\n",
       "  <th>Method:</th>             <td>Least Squares</td>  <th>  F-statistic:       </th> <td>   8014.</td> \n",
       "</tr>\n",
       "<tr>\n",
       "  <th>Date:</th>             <td>Sun, 08 Aug 2021</td> <th>  Prob (F-statistic):</th>  <td>  0.00</td>  \n",
       "</tr>\n",
       "<tr>\n",
       "  <th>Time:</th>                 <td>20:56:44</td>     <th>  Log-Likelihood:    </th> <td> -79199.</td> \n",
       "</tr>\n",
       "<tr>\n",
       "  <th>No. Observations:</th>      <td>146526</td>      <th>  AIC:               </th> <td>1.584e+05</td>\n",
       "</tr>\n",
       "<tr>\n",
       "  <th>Df Residuals:</th>          <td>146524</td>      <th>  BIC:               </th> <td>1.584e+05</td>\n",
       "</tr>\n",
       "<tr>\n",
       "  <th>Df Model:</th>              <td>     1</td>      <th>                     </th>     <td> </td>    \n",
       "</tr>\n",
       "<tr>\n",
       "  <th>Covariance Type:</th>      <td>nonrobust</td>    <th>                     </th>     <td> </td>    \n",
       "</tr>\n",
       "</table>\n",
       "<table class=\"simpletable\">\n",
       "<tr>\n",
       "    <td></td>       <th>coef</th>     <th>std err</th>      <th>t</th>      <th>P>|t|</th>  <th>[0.025</th>    <th>0.975]</th>  \n",
       "</tr>\n",
       "<tr>\n",
       "  <th>const</th> <td>   -0.0776</td> <td>    0.004</td> <td>  -20.964</td> <td> 0.000</td> <td>   -0.085</td> <td>   -0.070</td>\n",
       "</tr>\n",
       "<tr>\n",
       "  <th>x1</th>    <td>    0.0078</td> <td> 8.76e-05</td> <td>   89.521</td> <td> 0.000</td> <td>    0.008</td> <td>    0.008</td>\n",
       "</tr>\n",
       "</table>\n",
       "<table class=\"simpletable\">\n",
       "<tr>\n",
       "  <th>Omnibus:</th>       <td>22810.896</td> <th>  Durbin-Watson:     </th> <td>   2.006</td> \n",
       "</tr>\n",
       "<tr>\n",
       "  <th>Prob(Omnibus):</th>  <td> 0.000</td>   <th>  Jarque-Bera (JB):  </th> <td>31599.118</td>\n",
       "</tr>\n",
       "<tr>\n",
       "  <th>Skew:</th>           <td> 1.112</td>   <th>  Prob(JB):          </th> <td>    0.00</td> \n",
       "</tr>\n",
       "<tr>\n",
       "  <th>Kurtosis:</th>       <td> 2.517</td>   <th>  Cond. No.          </th> <td>    144.</td> \n",
       "</tr>\n",
       "</table><br/><br/>Warnings:<br/>[1] Standard Errors assume that the covariance matrix of the errors is correctly specified."
      ],
      "text/plain": [
       "<class 'statsmodels.iolib.summary.Summary'>\n",
       "\"\"\"\n",
       "                            OLS Regression Results                            \n",
       "==============================================================================\n",
       "Dep. Variable:                      y   R-squared:                       0.052\n",
       "Model:                            OLS   Adj. R-squared:                  0.052\n",
       "Method:                 Least Squares   F-statistic:                     8014.\n",
       "Date:                Sun, 08 Aug 2021   Prob (F-statistic):               0.00\n",
       "Time:                        20:56:44   Log-Likelihood:                -79199.\n",
       "No. Observations:              146526   AIC:                         1.584e+05\n",
       "Df Residuals:                  146524   BIC:                         1.584e+05\n",
       "Df Model:                           1                                         \n",
       "Covariance Type:            nonrobust                                         \n",
       "==============================================================================\n",
       "                 coef    std err          t      P>|t|      [0.025      0.975]\n",
       "------------------------------------------------------------------------------\n",
       "const         -0.0776      0.004    -20.964      0.000      -0.085      -0.070\n",
       "x1             0.0078   8.76e-05     89.521      0.000       0.008       0.008\n",
       "==============================================================================\n",
       "Omnibus:                    22810.896   Durbin-Watson:                   2.006\n",
       "Prob(Omnibus):                  0.000   Jarque-Bera (JB):            31599.118\n",
       "Skew:                           1.112   Prob(JB):                         0.00\n",
       "Kurtosis:                       2.517   Cond. No.                         144.\n",
       "==============================================================================\n",
       "\n",
       "Warnings:\n",
       "[1] Standard Errors assume that the covariance matrix of the errors is correctly specified.\n",
       "\"\"\""
      ]
     },
     "execution_count": 48,
     "metadata": {},
     "output_type": "execute_result"
    }
   ],
   "source": [
    "X_sm = sm.add_constant(X)\n",
    "# OLS vem de Ordinary Least Squares e o método fit irá treinar o modelo\n",
    "results = sm.OLS(y, X_sm).fit()\n",
    "# mostrando as estatísticas do modelo\n",
    "results.summary()"
   ]
  }
 ],
 "metadata": {
  "kernelspec": {
   "display_name": "Python 3 (ipykernel)",
   "language": "python",
   "name": "python3"
  },
  "language_info": {
   "codemirror_mode": {
    "name": "ipython",
    "version": 3
   },
   "file_extension": ".py",
   "mimetype": "text/x-python",
   "name": "python",
   "nbconvert_exporter": "python",
   "pygments_lexer": "ipython3",
   "version": "3.8.10"
  }
 },
 "nbformat": 4,
 "nbformat_minor": 5
}
