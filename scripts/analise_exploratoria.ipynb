{
 "cells": [
  {
   "cell_type": "code",
   "execution_count": 7,
   "id": "86ac2679",
   "metadata": {},
   "outputs": [],
   "source": [
    "from sklearn.linear_model import LinearRegression\n",
    "import statsmodels.api as sm\n",
    "import matplotlib.pyplot as plt\n",
    "import pandas as pd\n",
    "import sqlite3"
   ]
  },
  {
   "cell_type": "code",
   "execution_count": 8,
   "id": "f35a97ad",
   "metadata": {},
   "outputs": [],
   "source": [
    "coon = sqlite3.connect(\"../data/adult.db\")\n",
    "df = pd.read_sql_query('''select * from adult;''', coon)"
   ]
  },
  {
   "cell_type": "code",
   "execution_count": 9,
   "id": "dfbb3ade",
   "metadata": {},
   "outputs": [
    {
     "name": "stdout",
     "output_type": "stream",
     "text": [
      "<class 'pandas.core.frame.DataFrame'>\n",
      "RangeIndex: 48842 entries, 0 to 48841\n",
      "Data columns (total 16 columns):\n",
      " #   Column          Non-Null Count  Dtype \n",
      "---  ------          --------------  ----- \n",
      " 0   ID_adult        48842 non-null  int64 \n",
      " 1   age             48842 non-null  int64 \n",
      " 2   workclass       46043 non-null  object\n",
      " 3   fnlwgt          48842 non-null  int64 \n",
      " 4   education       48842 non-null  object\n",
      " 5   education_num   48842 non-null  int64 \n",
      " 6   marital_status  48842 non-null  object\n",
      " 7   occupation      46033 non-null  object\n",
      " 8   relationship    48842 non-null  object\n",
      " 9   race            48842 non-null  object\n",
      " 10  sex             48842 non-null  object\n",
      " 11  capital_gain    48842 non-null  int64 \n",
      " 12  capital_loss    48842 non-null  int64 \n",
      " 13  hours_per_week  48842 non-null  int64 \n",
      " 14  native_country  47985 non-null  object\n",
      " 15  class           48842 non-null  object\n",
      "dtypes: int64(7), object(9)\n",
      "memory usage: 6.0+ MB\n"
     ]
    }
   ],
   "source": [
    "df.info()"
   ]
  },
  {
   "cell_type": "code",
   "execution_count": 10,
   "id": "12249355",
   "metadata": {},
   "outputs": [
    {
     "data": {
      "text/html": [
       "<div>\n",
       "<style scoped>\n",
       "    .dataframe tbody tr th:only-of-type {\n",
       "        vertical-align: middle;\n",
       "    }\n",
       "\n",
       "    .dataframe tbody tr th {\n",
       "        vertical-align: top;\n",
       "    }\n",
       "\n",
       "    .dataframe thead th {\n",
       "        text-align: right;\n",
       "    }\n",
       "</style>\n",
       "<table border=\"1\" class=\"dataframe\">\n",
       "  <thead>\n",
       "    <tr style=\"text-align: right;\">\n",
       "      <th></th>\n",
       "      <th>ID_adult</th>\n",
       "      <th>age</th>\n",
       "      <th>fnlwgt</th>\n",
       "      <th>education_num</th>\n",
       "      <th>capital_gain</th>\n",
       "      <th>capital_loss</th>\n",
       "      <th>hours_per_week</th>\n",
       "    </tr>\n",
       "  </thead>\n",
       "  <tbody>\n",
       "    <tr>\n",
       "      <th>count</th>\n",
       "      <td>48842.000000</td>\n",
       "      <td>48842.000000</td>\n",
       "      <td>4.884200e+04</td>\n",
       "      <td>48842.000000</td>\n",
       "      <td>48842.000000</td>\n",
       "      <td>48842.000000</td>\n",
       "      <td>48842.000000</td>\n",
       "    </tr>\n",
       "    <tr>\n",
       "      <th>mean</th>\n",
       "      <td>24421.500000</td>\n",
       "      <td>38.641763</td>\n",
       "      <td>1.896625e+05</td>\n",
       "      <td>10.078089</td>\n",
       "      <td>1079.067626</td>\n",
       "      <td>87.502314</td>\n",
       "      <td>40.421154</td>\n",
       "    </tr>\n",
       "    <tr>\n",
       "      <th>std</th>\n",
       "      <td>14099.615261</td>\n",
       "      <td>13.712688</td>\n",
       "      <td>1.056063e+05</td>\n",
       "      <td>2.570973</td>\n",
       "      <td>7452.019058</td>\n",
       "      <td>403.004552</td>\n",
       "      <td>12.392477</td>\n",
       "    </tr>\n",
       "    <tr>\n",
       "      <th>min</th>\n",
       "      <td>1.000000</td>\n",
       "      <td>0.000000</td>\n",
       "      <td>0.000000e+00</td>\n",
       "      <td>1.000000</td>\n",
       "      <td>0.000000</td>\n",
       "      <td>0.000000</td>\n",
       "      <td>0.000000</td>\n",
       "    </tr>\n",
       "    <tr>\n",
       "      <th>25%</th>\n",
       "      <td>12211.250000</td>\n",
       "      <td>28.000000</td>\n",
       "      <td>1.175505e+05</td>\n",
       "      <td>9.000000</td>\n",
       "      <td>0.000000</td>\n",
       "      <td>0.000000</td>\n",
       "      <td>40.000000</td>\n",
       "    </tr>\n",
       "    <tr>\n",
       "      <th>50%</th>\n",
       "      <td>24421.500000</td>\n",
       "      <td>37.000000</td>\n",
       "      <td>1.781445e+05</td>\n",
       "      <td>10.000000</td>\n",
       "      <td>0.000000</td>\n",
       "      <td>0.000000</td>\n",
       "      <td>40.000000</td>\n",
       "    </tr>\n",
       "    <tr>\n",
       "      <th>75%</th>\n",
       "      <td>36631.750000</td>\n",
       "      <td>48.000000</td>\n",
       "      <td>2.376420e+05</td>\n",
       "      <td>12.000000</td>\n",
       "      <td>0.000000</td>\n",
       "      <td>0.000000</td>\n",
       "      <td>45.000000</td>\n",
       "    </tr>\n",
       "    <tr>\n",
       "      <th>max</th>\n",
       "      <td>48842.000000</td>\n",
       "      <td>90.000000</td>\n",
       "      <td>1.490400e+06</td>\n",
       "      <td>16.000000</td>\n",
       "      <td>99999.000000</td>\n",
       "      <td>4356.000000</td>\n",
       "      <td>99.000000</td>\n",
       "    </tr>\n",
       "  </tbody>\n",
       "</table>\n",
       "</div>"
      ],
      "text/plain": [
       "           ID_adult           age        fnlwgt  education_num  capital_gain  \\\n",
       "count  48842.000000  48842.000000  4.884200e+04   48842.000000  48842.000000   \n",
       "mean   24421.500000     38.641763  1.896625e+05      10.078089   1079.067626   \n",
       "std    14099.615261     13.712688  1.056063e+05       2.570973   7452.019058   \n",
       "min        1.000000      0.000000  0.000000e+00       1.000000      0.000000   \n",
       "25%    12211.250000     28.000000  1.175505e+05       9.000000      0.000000   \n",
       "50%    24421.500000     37.000000  1.781445e+05      10.000000      0.000000   \n",
       "75%    36631.750000     48.000000  2.376420e+05      12.000000      0.000000   \n",
       "max    48842.000000     90.000000  1.490400e+06      16.000000  99999.000000   \n",
       "\n",
       "       capital_loss  hours_per_week  \n",
       "count  48842.000000    48842.000000  \n",
       "mean      87.502314       40.421154  \n",
       "std      403.004552       12.392477  \n",
       "min        0.000000        0.000000  \n",
       "25%        0.000000       40.000000  \n",
       "50%        0.000000       40.000000  \n",
       "75%        0.000000       45.000000  \n",
       "max     4356.000000       99.000000  "
      ]
     },
     "execution_count": 10,
     "metadata": {},
     "output_type": "execute_result"
    }
   ],
   "source": [
    "df.describe()"
   ]
  },
  {
   "cell_type": "code",
   "execution_count": 39,
   "id": "1cc81de5",
   "metadata": {},
   "outputs": [],
   "source": [
    "sexo = dict(df['sex'].value_counts())"
   ]
  },
  {
   "cell_type": "code",
   "execution_count": 40,
   "id": "644e12e6",
   "metadata": {},
   "outputs": [
    {
     "name": "stdout",
     "output_type": "stream",
     "text": [
      "na tabela, temos no total 48842 registro, 32650 sao homens, representando 66.85% e mulheres representam 33.15%, total de 16192\n"
     ]
    }
   ],
   "source": [
    "print(f\"na tabela, temos no total {df.shape[0]} registro, {sexo['male']} sao homens, representando {round((sexo['male']/df.shape[0])*100, 2)}%\" + \n",
    "f\" e mulheres representam {round((sexo['female']/df.shape[0])*100, 2)}%, total de {sexo['female']}\")"
   ]
  },
  {
   "cell_type": "code",
   "execution_count": 41,
   "id": "31a977ce",
   "metadata": {},
   "outputs": [
    {
     "data": {
      "image/png": "[encoded data removed]",
      "text/plain": [
       "<Figure size 432x288 with 1 Axes>"
      ]
     },
     "metadata": {
      "needs_background": "light"
     },
     "output_type": "display_data"
    }
   ],
   "source": [
    "plt.hist(df['sex'], bins=3)\n",
    "plt.show() "
   ]
  },
  {
   "cell_type": "code",
   "execution_count": 42,
   "id": "a3dee8e6",
   "metadata": {},
   "outputs": [],
   "source": [
    "clase = dict(df['class'].value_counts())"
   ]
  },
  {
   "cell_type": "code",
   "execution_count": 44,
   "id": "f2401e5e",
   "metadata": {},
   "outputs": [
    {
     "data": {
      "text/plain": [
       "'na tabela, 37155 (76.07%) tem uma renda inferior a 50 mil dolares, e apenas 11687 (23.93%) uma renda superior a 50 mil'"
      ]
     },
     "execution_count": 44,
     "metadata": {},
     "output_type": "execute_result"
    }
   ],
   "source": [
    "f\"na tabela, {clase['<=50k']} ({round((clase['<=50k']/df.shape[0])*100, 2)}%) tem uma renda inferior a 50 mil dolares, e apenas {clase['>50k']} ({round((clase['>50k']/df.shape[0])*100, 2)}%) uma renda superior a 50 mil\""
   ]
  },
  {
   "cell_type": "code",
   "execution_count": 45,
   "id": "6aab791f",
   "metadata": {},
   "outputs": [
    {
     "data": {
      "image/png": "[encoded data removed]",
      "text/plain": [
       "<Figure size 432x288 with 1 Axes>"
      ]
     },
     "metadata": {
      "needs_background": "light"
     },
     "output_type": "display_data"
    }
   ],
   "source": [
    "plt.hist(df['class'], bins=3)\n",
    "plt.show() "
   ]
  },
  {
   "cell_type": "code",
   "execution_count": 46,
   "id": "b2ea2837",
   "metadata": {},
   "outputs": [],
   "source": [
    "mulheres = df[(df['sex'] == \"female\") & (df['class'] == \">50k\")]\n",
    "homens = df[(df['sex'] == \"male\") & (df['class'] == \">50k\")]"
   ]
  },
  {
   "cell_type": "code",
   "execution_count": 48,
   "id": "2f58ffc0",
   "metadata": {},
   "outputs": [
    {
     "data": {
      "text/plain": [
       "'1769 mulheres (15.14%) tem uma renda superior a 50 mil'"
      ]
     },
     "execution_count": 48,
     "metadata": {},
     "output_type": "execute_result"
    }
   ],
   "source": [
    "f\"{mulheres.shape[0]} mulheres ({round((mulheres.shape[0]/clase['>50k'])*100, 2)}%) tem uma renda superior a 50 mil\""
   ]
  },
  {
   "cell_type": "code",
   "execution_count": 49,
   "id": "c49f8423",
   "metadata": {},
   "outputs": [
    {
     "data": {
      "image/png": "[encoded data removed]",
      "text/plain": [
       "<Figure size 432x288 with 1 Axes>"
      ]
     },
     "metadata": {
      "needs_background": "light"
     },
     "output_type": "display_data"
    }
   ],
   "source": [
    "plt.hist(df[df['class'] == \">50k\"][\"sex\"], bins=3)\n",
    "plt.show() "
   ]
  },
  {
   "cell_type": "code",
   "execution_count": 50,
   "id": "3a7305a1",
   "metadata": {},
   "outputs": [],
   "source": [
    "brancos = df[(df['class'] == \">50k\") & (df['race'] == \"white\")]"
   ]
  },
  {
   "cell_type": "code",
   "execution_count": 51,
   "id": "44b0a65f",
   "metadata": {},
   "outputs": [
    {
     "data": {
      "text/plain": [
       "'nos dados, 10607 (90.76%) brancos representao uma renda maior que 50 mil'"
      ]
     },
     "execution_count": 51,
     "metadata": {},
     "output_type": "execute_result"
    }
   ],
   "source": [
    "f\"nos dados, {brancos.shape[0]} ({round((brancos.shape[0]/clase['>50k'])*100, 2)}%) brancos representam uma renda maior que 50 mil\""
   ]
  },
  {
   "cell_type": "code",
   "execution_count": 52,
   "id": "f708b200",
   "metadata": {
    "scrolled": true
   },
   "outputs": [
    {
     "data": {
      "image/png": "[encoded data removed]",
      "text/plain": [
       "<Figure size 432x288 with 1 Axes>"
      ]
     },
     "metadata": {
      "needs_background": "light"
     },
     "output_type": "display_data"
    }
   ],
   "source": [
    "plt.hist(df[df['class'] == \">50k\"][\"race\"])\n",
    "plt.show() "
   ]
  },
  {
   "cell_type": "code",
   "execution_count": 69,
   "id": "27aa5ae6",
   "metadata": {},
   "outputs": [],
   "source": [
    "us = df[(df['class'] == \">50k\") & (df['native_country'] == \"united-states\")]"
   ]
  },
  {
   "cell_type": "code",
   "execution_count": 74,
   "id": "1d3da724",
   "metadata": {},
   "outputs": [
    {
     "data": {
      "text/plain": [
       "'10694 (91.5%) das pessoas que tiveram uma renda acima de 50 mil são de estadunidenses'"
      ]
     },
     "execution_count": 74,
     "metadata": {},
     "output_type": "execute_result"
    }
   ],
   "source": [
    "f\"{us.shape[0]} ({round((us.shape[0]/clase['>50k'])*100, 2)}%) das pessoas que tiveram uma renda acima de 50 mil são de estadunidenses\""
   ]
  },
  {
   "cell_type": "code",
   "execution_count": 64,
   "id": "56b69c30",
   "metadata": {},
   "outputs": [
    {
     "data": {
      "text/plain": [
       "count    48842.000000\n",
       "mean        40.421154\n",
       "std         12.392477\n",
       "min          0.000000\n",
       "25%         40.000000\n",
       "50%         40.000000\n",
       "75%         45.000000\n",
       "max         99.000000\n",
       "Name: hours_per_week, dtype: float64"
      ]
     },
     "execution_count": 64,
     "metadata": {},
     "output_type": "execute_result"
    }
   ],
   "source": [
    "df[\"hours_per_week\"].describe()"
   ]
  },
  {
   "cell_type": "code",
   "execution_count": null,
   "id": "a8c77986",
   "metadata": {},
   "outputs": [],
   "source": [
    "f\"em horas trabalhadas por semana, temos uma mediana de 40h\""
   ]
  },
  {
   "cell_type": "code",
   "execution_count": 65,
   "id": "1ba229c7",
   "metadata": {},
   "outputs": [
    {
     "data": {
      "image/png": "[encoded data removed]",
      "text/plain": [
       "<Figure size 432x288 with 1 Axes>"
      ]
     },
     "metadata": {
      "needs_background": "light"
     },
     "output_type": "display_data"
    }
   ],
   "source": [
    "plt.hist(df[\"hours_per_week\"])\n",
    "plt.show() "
   ]
  }
 ],
 "metadata": {
  "kernelspec": {
   "display_name": "Python 3 (ipykernel)",
   "language": "python",
   "name": "python3"
  },
  "language_info": {
   "codemirror_mode": {
    "name": "ipython",
    "version": 3
   },
   "file_extension": ".py",
   "mimetype": "text/x-python",
   "name": "python",
   "nbconvert_exporter": "python",
   "pygments_lexer": "ipython3",
   "version": "3.8.10"
  }
 },
 "nbformat": 4,
 "nbformat_minor": 5
}
