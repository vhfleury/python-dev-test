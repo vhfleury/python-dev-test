{
 "cells": [
  {
   "cell_type": "code",
   "execution_count": 1,
   "id": "9eec5c6f-e4d5-4144-bf03-44415df14a1e",
   "metadata": {},
   "outputs": [],
   "source": [
    "import pandas as pd\n",
    "from sqlite3 import Error\n",
    "import numpy as np"
   ]
  },
  {
   "cell_type": "code",
   "execution_count": 2,
   "id": "195e593a-a550-4c21-b7e2-02d563dee3a9",
   "metadata": {},
   "outputs": [],
   "source": [
    "colunas = ['age',\n",
    "    'workclass',\n",
    "    'fnlwgt',\n",
    "    'education',\n",
    "    'education_num',\n",
    "    'marital_status',\n",
    "    'occupation',\n",
    "    'relationship',\n",
    "    'race',\n",
    "    'sex',\n",
    "    'capital_gain',\n",
    "    'capital_loss',\n",
    "    'hours_per_week',\n",
    "    'native_country',\n",
    "    'class']"
   ]
  },
  {
   "cell_type": "code",
   "execution_count": 3,
   "id": "144e8a0a-834b-44d9-bd96-0031cd43b35b",
   "metadata": {},
   "outputs": [],
   "source": [
    "#pulando apartir da primeira linha do arquivo Adult.test pois contem sujeira\n",
    "df_1 = pd.read_csv(\"../data/Adult.test\", names=colunas, skiprows=1)\n",
    "df_2 = pd.read_csv(\"../data/Adult.data\", names=colunas)"
   ]
  },
  {
   "cell_type": "code",
   "execution_count": 4,
   "id": "e39d6ff8",
   "metadata": {},
   "outputs": [],
   "source": [
    "#juntando os dois arquivos\n",
    "df1 = pd.concat([df_1, df_2])"
   ]
  },
  {
   "cell_type": "code",
   "execution_count": 5,
   "id": "41591ef4",
   "metadata": {},
   "outputs": [
    {
     "data": {
      "text/html": [
       "<div>\n",
       "<style scoped>\n",
       "    .dataframe tbody tr th:only-of-type {\n",
       "        vertical-align: middle;\n",
       "    }\n",
       "\n",
       "    .dataframe tbody tr th {\n",
       "        vertical-align: top;\n",
       "    }\n",
       "\n",
       "    .dataframe thead th {\n",
       "        text-align: right;\n",
       "    }\n",
       "</style>\n",
       "<table border=\"1\" class=\"dataframe\">\n",
       "  <thead>\n",
       "    <tr style=\"text-align: right;\">\n",
       "      <th></th>\n",
       "      <th>age</th>\n",
       "      <th>workclass</th>\n",
       "      <th>fnlwgt</th>\n",
       "      <th>education</th>\n",
       "      <th>education_num</th>\n",
       "      <th>marital_status</th>\n",
       "      <th>occupation</th>\n",
       "      <th>relationship</th>\n",
       "      <th>race</th>\n",
       "      <th>sex</th>\n",
       "      <th>capital_gain</th>\n",
       "      <th>capital_loss</th>\n",
       "      <th>hours_per_week</th>\n",
       "      <th>native_country</th>\n",
       "      <th>class</th>\n",
       "    </tr>\n",
       "  </thead>\n",
       "  <tbody>\n",
       "    <tr>\n",
       "      <th>0</th>\n",
       "      <td>25</td>\n",
       "      <td>Private</td>\n",
       "      <td>226802</td>\n",
       "      <td>11th</td>\n",
       "      <td>7</td>\n",
       "      <td>Never-married</td>\n",
       "      <td>Machine-op-inspct</td>\n",
       "      <td>Own-child</td>\n",
       "      <td>Black</td>\n",
       "      <td>Male</td>\n",
       "      <td>0</td>\n",
       "      <td>0</td>\n",
       "      <td>40</td>\n",
       "      <td>United-States</td>\n",
       "      <td>&lt;=50K.</td>\n",
       "    </tr>\n",
       "    <tr>\n",
       "      <th>1</th>\n",
       "      <td>38</td>\n",
       "      <td>Private</td>\n",
       "      <td>89814</td>\n",
       "      <td>HS-grad</td>\n",
       "      <td>9</td>\n",
       "      <td>Married-civ-spouse</td>\n",
       "      <td>Farming-fishing</td>\n",
       "      <td>Husband</td>\n",
       "      <td>White</td>\n",
       "      <td>Male</td>\n",
       "      <td>0</td>\n",
       "      <td>0</td>\n",
       "      <td>50</td>\n",
       "      <td>United-States</td>\n",
       "      <td>&lt;=50K.</td>\n",
       "    </tr>\n",
       "    <tr>\n",
       "      <th>2</th>\n",
       "      <td>28</td>\n",
       "      <td>Local-gov</td>\n",
       "      <td>336951</td>\n",
       "      <td>Assoc-acdm</td>\n",
       "      <td>12</td>\n",
       "      <td>Married-civ-spouse</td>\n",
       "      <td>Protective-serv</td>\n",
       "      <td>Husband</td>\n",
       "      <td>White</td>\n",
       "      <td>Male</td>\n",
       "      <td>0</td>\n",
       "      <td>0</td>\n",
       "      <td>40</td>\n",
       "      <td>United-States</td>\n",
       "      <td>&gt;50K.</td>\n",
       "    </tr>\n",
       "    <tr>\n",
       "      <th>3</th>\n",
       "      <td>44</td>\n",
       "      <td>Private</td>\n",
       "      <td>160323</td>\n",
       "      <td>Some-college</td>\n",
       "      <td>10</td>\n",
       "      <td>Married-civ-spouse</td>\n",
       "      <td>Machine-op-inspct</td>\n",
       "      <td>Husband</td>\n",
       "      <td>Black</td>\n",
       "      <td>Male</td>\n",
       "      <td>7688</td>\n",
       "      <td>0</td>\n",
       "      <td>40</td>\n",
       "      <td>United-States</td>\n",
       "      <td>&gt;50K.</td>\n",
       "    </tr>\n",
       "    <tr>\n",
       "      <th>4</th>\n",
       "      <td>18</td>\n",
       "      <td>?</td>\n",
       "      <td>103497</td>\n",
       "      <td>Some-college</td>\n",
       "      <td>10</td>\n",
       "      <td>Never-married</td>\n",
       "      <td>?</td>\n",
       "      <td>Own-child</td>\n",
       "      <td>White</td>\n",
       "      <td>Female</td>\n",
       "      <td>0</td>\n",
       "      <td>0</td>\n",
       "      <td>30</td>\n",
       "      <td>United-States</td>\n",
       "      <td>&lt;=50K.</td>\n",
       "    </tr>\n",
       "  </tbody>\n",
       "</table>\n",
       "</div>"
      ],
      "text/plain": [
       "  age   workclass  fnlwgt      education  education_num       marital_status  \\\n",
       "0  25     Private  226802           11th              7        Never-married   \n",
       "1  38     Private   89814        HS-grad              9   Married-civ-spouse   \n",
       "2  28   Local-gov  336951     Assoc-acdm             12   Married-civ-spouse   \n",
       "3  44     Private  160323   Some-college             10   Married-civ-spouse   \n",
       "4  18           ?  103497   Some-college             10        Never-married   \n",
       "\n",
       "           occupation relationship    race      sex capital_gain  \\\n",
       "0   Machine-op-inspct    Own-child   Black     Male            0   \n",
       "1     Farming-fishing      Husband   White     Male            0   \n",
       "2     Protective-serv      Husband   White     Male            0   \n",
       "3   Machine-op-inspct      Husband   Black     Male         7688   \n",
       "4                   ?    Own-child   White   Female            0   \n",
       "\n",
       "   capital_loss hours_per_week  native_country    class  \n",
       "0             0             40   United-States   <=50K.  \n",
       "1             0             50   United-States   <=50K.  \n",
       "2             0             40   United-States    >50K.  \n",
       "3             0             40   United-States    >50K.  \n",
       "4             0             30   United-States   <=50K.  "
      ]
     },
     "execution_count": 5,
     "metadata": {},
     "output_type": "execute_result"
    }
   ],
   "source": [
    "df1.head()"
   ]
  },
  {
   "cell_type": "code",
   "execution_count": 6,
   "id": "56a90074",
   "metadata": {},
   "outputs": [
    {
     "name": "stdout",
     "output_type": "stream",
     "text": [
      "<class 'pandas.core.frame.DataFrame'>\n",
      "Int64Index: 48842 entries, 0 to 32560\n",
      "Data columns (total 15 columns):\n",
      " #   Column          Non-Null Count  Dtype \n",
      "---  ------          --------------  ----- \n",
      " 0   age             48842 non-null  object\n",
      " 1   workclass       48842 non-null  object\n",
      " 2   fnlwgt          48842 non-null  object\n",
      " 3   education       48842 non-null  object\n",
      " 4   education_num   48842 non-null  int64 \n",
      " 5   marital_status  48842 non-null  object\n",
      " 6   occupation      48842 non-null  object\n",
      " 7   relationship    48842 non-null  object\n",
      " 8   race            48842 non-null  object\n",
      " 9   sex             48842 non-null  object\n",
      " 10  capital_gain    48842 non-null  object\n",
      " 11  capital_loss    48842 non-null  int64 \n",
      " 12  hours_per_week  48842 non-null  object\n",
      " 13  native_country  48842 non-null  object\n",
      " 14  class           48842 non-null  object\n",
      "dtypes: int64(2), object(13)\n",
      "memory usage: 6.0+ MB\n"
     ]
    }
   ],
   "source": [
    "df1.info()"
   ]
  },
  {
   "cell_type": "code",
   "execution_count": 7,
   "id": "a301cfda",
   "metadata": {},
   "outputs": [],
   "source": [
    "# no arquivo Description mostra que contem 6 colunas numericas, mas aqui vejo apenas 2"
   ]
  },
  {
   "cell_type": "code",
   "execution_count": 8,
   "id": "df1c5c4a",
   "metadata": {},
   "outputs": [
    {
     "name": "stdout",
     "output_type": "stream",
     "text": [
      "age: B\n",
      "age: D\n",
      "fnlwgt:  C\n",
      "capital_gain:  A\n",
      "hours_per_week:  E\n"
     ]
    }
   ],
   "source": [
    "for coluna in ['age', 'fnlwgt', 'education_num', 'capital_gain', 'capital_loss', 'hours_per_week']:\n",
    "    for variavel in list(df1[coluna].drop_duplicates()):\n",
    "    \n",
    "        try:\n",
    "            int(variavel)\n",
    "        except:\n",
    "            print(f\"{coluna}: {variavel}\")"
   ]
  },
  {
   "cell_type": "code",
   "execution_count": 9,
   "id": "c5dcb516",
   "metadata": {},
   "outputs": [],
   "source": [
    "# encontrei alguns numeros ao inves de numero, como essas letras nao bate com a descricao das colunas, decidi tirar"
   ]
  },
  {
   "cell_type": "code",
   "execution_count": 10,
   "id": "edb4de0c",
   "metadata": {
    "scrolled": true
   },
   "outputs": [],
   "source": [
    "def retira_sujeira(coluna, df1):\n",
    "    \n",
    "    for variavel in list(df1[coluna].drop_duplicates()):\n",
    "\n",
    "        try:\n",
    "            int(variavel)\n",
    "        except:\n",
    "            df1[coluna] = df1[coluna].apply(lambda x: '0' if x == variavel else x )\n",
    "    \n",
    "    return df1"
   ]
  },
  {
   "cell_type": "code",
   "execution_count": 11,
   "id": "7fe6c540",
   "metadata": {},
   "outputs": [],
   "source": [
    "# retirando a sujeira e trasnformando elas em numerica\n",
    "for coluna in ['age', 'fnlwgt', 'education_num', 'capital_gain', 'capital_loss', 'hours_per_week']:\n",
    "    df1[coluna] = df1[coluna].apply(lambda x: str(x).replace(\"?\", \"np.nan\"))\n",
    "    df1 = retira_sujeira(coluna, df1)\n",
    "    df1[coluna] = df1[coluna].astype(\"int\")\n",
    "    "
   ]
  },
  {
   "cell_type": "code",
   "execution_count": 12,
   "id": "c71f298a",
   "metadata": {},
   "outputs": [
    {
     "data": {
      "text/plain": [
       "{'age': 25,\n",
       " 'workclass': ' Private',\n",
       " 'fnlwgt': 226802,\n",
       " 'education': ' 11th',\n",
       " 'education_num': 7,\n",
       " 'marital_status': ' Never-married',\n",
       " 'occupation': ' Machine-op-inspct',\n",
       " 'relationship': ' Own-child',\n",
       " 'race': ' Black',\n",
       " 'sex': ' Male',\n",
       " 'capital_gain': 0,\n",
       " 'capital_loss': 0,\n",
       " 'hours_per_week': 40,\n",
       " 'native_country': ' United-States',\n",
       " 'class': ' <=50K.'}"
      ]
     },
     "execution_count": 12,
     "metadata": {},
     "output_type": "execute_result"
    }
   ],
   "source": [
    "# puxando a primeira linha do arquivo, vejo que tem espaço no inicio das variaveis string \n",
    "dict(df1.iloc[0])"
   ]
  },
  {
   "cell_type": "code",
   "execution_count": 13,
   "id": "184d4a48",
   "metadata": {},
   "outputs": [],
   "source": [
    "# retirar todos os espacos no inicio\n",
    "for coluna in df1:\n",
    "    df1[coluna] = df1[coluna].apply(lambda x: str(x).strip())"
   ]
  },
  {
   "cell_type": "code",
   "execution_count": 14,
   "id": "321bbfcc",
   "metadata": {},
   "outputs": [],
   "source": [
    "# agora vou puxar alguns dados a mais das colunas, como a quantidade de variaveis e o tamanho da maior variaveis"
   ]
  },
  {
   "cell_type": "code",
   "execution_count": 15,
   "id": "525ff12c",
   "metadata": {},
   "outputs": [],
   "source": [
    "def puxa_len_variavel( variaveis:list ) -> int:\n",
    "    \"\"\"funcao que puxa a variavel com maior tamanho dentro de uma lista\"\"\"\n",
    "    tamanho = 0\n",
    "\n",
    "    for variavel in variaveis:\n",
    "        variavel = str(variavel)\n",
    "        \n",
    "        if len(variavel) > tamanho:\n",
    "            tamanho = len(variavel)            \n",
    "    return tamanho"
   ]
  },
  {
   "cell_type": "code",
   "execution_count": 16,
   "id": "4dbbbfeb-0a56-4895-9883-89fd9392951c",
   "metadata": {
    "scrolled": true
   },
   "outputs": [
    {
     "name": "stdout",
     "output_type": "stream",
     "text": [
      "coluna: age\n",
      "tipo coluna: object\n",
      "total variaveis: 75\n",
      "tamanho maior variavel: 2\n",
      "\n",
      "coluna: workclass\n",
      "tipo coluna: object\n",
      "total variaveis: 9\n",
      "tamanho maior variavel: 16\n",
      "\n",
      "coluna: fnlwgt\n",
      "tipo coluna: object\n",
      "total variaveis: 28523\n",
      "tamanho maior variavel: 7\n",
      "\n",
      "coluna: education\n",
      "tipo coluna: object\n",
      "total variaveis: 16\n",
      "tamanho maior variavel: 12\n",
      "\n",
      "coluna: education_num\n",
      "tipo coluna: object\n",
      "total variaveis: 16\n",
      "tamanho maior variavel: 2\n",
      "\n",
      "coluna: marital_status\n",
      "tipo coluna: object\n",
      "total variaveis: 7\n",
      "tamanho maior variavel: 21\n",
      "\n",
      "coluna: occupation\n",
      "tipo coluna: object\n",
      "total variaveis: 15\n",
      "tamanho maior variavel: 17\n",
      "\n",
      "coluna: relationship\n",
      "tipo coluna: object\n",
      "total variaveis: 6\n",
      "tamanho maior variavel: 14\n",
      "\n",
      "coluna: race\n",
      "tipo coluna: object\n",
      "total variaveis: 5\n",
      "tamanho maior variavel: 18\n",
      "\n",
      "coluna: sex\n",
      "tipo coluna: object\n",
      "total variaveis: 2\n",
      "tamanho maior variavel: 6\n",
      "\n",
      "coluna: capital_gain\n",
      "tipo coluna: object\n",
      "total variaveis: 123\n",
      "tamanho maior variavel: 5\n",
      "\n",
      "coluna: capital_loss\n",
      "tipo coluna: object\n",
      "total variaveis: 99\n",
      "tamanho maior variavel: 4\n",
      "\n",
      "coluna: hours_per_week\n",
      "tipo coluna: object\n",
      "total variaveis: 97\n",
      "tamanho maior variavel: 2\n",
      "\n",
      "coluna: native_country\n",
      "tipo coluna: object\n",
      "total variaveis: 42\n",
      "tamanho maior variavel: 26\n",
      "\n",
      "coluna: class\n",
      "tipo coluna: object\n",
      "total variaveis: 4\n",
      "tamanho maior variavel: 6\n",
      "\n"
     ]
    }
   ],
   "source": [
    "for coluna in df1:\n",
    "    \n",
    "    variaveis = list(df1[coluna].drop_duplicates())\n",
    "    \n",
    "    total_variaveis = len(variaveis)\n",
    "    tamanhao_variavel = puxa_len_variavel(variaveis)\n",
    "    \n",
    "    print(f\"coluna: {coluna}\")\n",
    "    print(f\"tipo coluna: {df1[coluna].dtype}\")\n",
    "    print(f\"total variaveis: {total_variaveis}\")\n",
    "    print(f\"tamanho maior variavel: {tamanhao_variavel}\\n\")"
   ]
  },
  {
   "cell_type": "code",
   "execution_count": 17,
   "id": "6aab6d40",
   "metadata": {},
   "outputs": [],
   "source": [
    "# coluna class so tem 2 variaveis mas esta mostrando 4"
   ]
  },
  {
   "cell_type": "code",
   "execution_count": 18,
   "id": "43b2f8f3",
   "metadata": {},
   "outputs": [
    {
     "data": {
      "text/plain": [
       "['<=50K.', '>50K.', '<=50K', '>50K']"
      ]
     },
     "execution_count": 18,
     "metadata": {},
     "output_type": "execute_result"
    }
   ],
   "source": [
    "list(df1['class'].drop_duplicates())"
   ]
  },
  {
   "cell_type": "code",
   "execution_count": 19,
   "id": "ec789fda",
   "metadata": {},
   "outputs": [],
   "source": [
    "# verficamos que tem uma variaçao das colunas com um ponto, para resolver o problema, retiramos o ponto\n",
    "df1['class'] = df1['class'].apply(lambda x: x.replace(\".\", \"\"))"
   ]
  },
  {
   "cell_type": "code",
   "execution_count": 20,
   "id": "0234b328",
   "metadata": {},
   "outputs": [],
   "source": [
    "# com base do tamanho das variaveis de cada coluna, decido criar um bando de dados com esses tamanho, para ocupar o menor espaço"
   ]
  },
  {
   "cell_type": "code",
   "execution_count": 21,
   "id": "9c8e2677",
   "metadata": {},
   "outputs": [
    {
     "data": {
      "text/plain": [
       "['Private',\n",
       " 'Local-gov',\n",
       " '?',\n",
       " 'Self-emp-not-inc',\n",
       " 'Federal-gov',\n",
       " 'State-gov',\n",
       " 'Self-emp-inc',\n",
       " 'Without-pay',\n",
       " 'Never-worked']"
      ]
     },
     "execution_count": 21,
     "metadata": {},
     "output_type": "execute_result"
    }
   ],
   "source": [
    "list(df1['workclass'].drop_duplicates())"
   ]
  },
  {
   "cell_type": "code",
   "execution_count": 22,
   "id": "4b0822b3",
   "metadata": {},
   "outputs": [],
   "source": [
    "# analisando as colunas do tipo object, vejo que contem alguns pontos de interrogacao, decido trocar elas por uma string vazia\n",
    "# como nao ocorre nas variveis tipo int, o codigo abaixo nao tera problema\n",
    "for coluna in df1:\n",
    "    df1[coluna] = df1[coluna].apply(lambda x: str(x).replace(\"?\", \"\"))"
   ]
  },
  {
   "cell_type": "code",
   "execution_count": 23,
   "id": "128432cd",
   "metadata": {},
   "outputs": [],
   "source": [
    "# deixando todas as variaveis em lowCase\n",
    "for coluna in df1:\n",
    "    df1[coluna] = df1[coluna].apply(lambda x: str(x).lower())"
   ]
  },
  {
   "cell_type": "code",
   "execution_count": 24,
   "id": "18100f4f",
   "metadata": {
    "scrolled": true
   },
   "outputs": [
    {
     "data": {
      "text/html": [
       "<div>\n",
       "<style scoped>\n",
       "    .dataframe tbody tr th:only-of-type {\n",
       "        vertical-align: middle;\n",
       "    }\n",
       "\n",
       "    .dataframe tbody tr th {\n",
       "        vertical-align: top;\n",
       "    }\n",
       "\n",
       "    .dataframe thead th {\n",
       "        text-align: right;\n",
       "    }\n",
       "</style>\n",
       "<table border=\"1\" class=\"dataframe\">\n",
       "  <thead>\n",
       "    <tr style=\"text-align: right;\">\n",
       "      <th></th>\n",
       "      <th>age</th>\n",
       "      <th>workclass</th>\n",
       "      <th>fnlwgt</th>\n",
       "      <th>education</th>\n",
       "      <th>education_num</th>\n",
       "      <th>marital_status</th>\n",
       "      <th>occupation</th>\n",
       "      <th>relationship</th>\n",
       "      <th>race</th>\n",
       "      <th>sex</th>\n",
       "      <th>capital_gain</th>\n",
       "      <th>capital_loss</th>\n",
       "      <th>hours_per_week</th>\n",
       "      <th>native_country</th>\n",
       "      <th>class</th>\n",
       "    </tr>\n",
       "  </thead>\n",
       "  <tbody>\n",
       "    <tr>\n",
       "      <th>0</th>\n",
       "      <td>25</td>\n",
       "      <td>private</td>\n",
       "      <td>226802</td>\n",
       "      <td>11th</td>\n",
       "      <td>7</td>\n",
       "      <td>never-married</td>\n",
       "      <td>machine-op-inspct</td>\n",
       "      <td>own-child</td>\n",
       "      <td>black</td>\n",
       "      <td>male</td>\n",
       "      <td>0</td>\n",
       "      <td>0</td>\n",
       "      <td>40</td>\n",
       "      <td>united-states</td>\n",
       "      <td>&lt;=50k</td>\n",
       "    </tr>\n",
       "    <tr>\n",
       "      <th>1</th>\n",
       "      <td>38</td>\n",
       "      <td>private</td>\n",
       "      <td>89814</td>\n",
       "      <td>hs-grad</td>\n",
       "      <td>9</td>\n",
       "      <td>married-civ-spouse</td>\n",
       "      <td>farming-fishing</td>\n",
       "      <td>husband</td>\n",
       "      <td>white</td>\n",
       "      <td>male</td>\n",
       "      <td>0</td>\n",
       "      <td>0</td>\n",
       "      <td>50</td>\n",
       "      <td>united-states</td>\n",
       "      <td>&lt;=50k</td>\n",
       "    </tr>\n",
       "    <tr>\n",
       "      <th>2</th>\n",
       "      <td>28</td>\n",
       "      <td>local-gov</td>\n",
       "      <td>336951</td>\n",
       "      <td>assoc-acdm</td>\n",
       "      <td>12</td>\n",
       "      <td>married-civ-spouse</td>\n",
       "      <td>protective-serv</td>\n",
       "      <td>husband</td>\n",
       "      <td>white</td>\n",
       "      <td>male</td>\n",
       "      <td>0</td>\n",
       "      <td>0</td>\n",
       "      <td>40</td>\n",
       "      <td>united-states</td>\n",
       "      <td>&gt;50k</td>\n",
       "    </tr>\n",
       "    <tr>\n",
       "      <th>3</th>\n",
       "      <td>44</td>\n",
       "      <td>private</td>\n",
       "      <td>160323</td>\n",
       "      <td>some-college</td>\n",
       "      <td>10</td>\n",
       "      <td>married-civ-spouse</td>\n",
       "      <td>machine-op-inspct</td>\n",
       "      <td>husband</td>\n",
       "      <td>black</td>\n",
       "      <td>male</td>\n",
       "      <td>7688</td>\n",
       "      <td>0</td>\n",
       "      <td>40</td>\n",
       "      <td>united-states</td>\n",
       "      <td>&gt;50k</td>\n",
       "    </tr>\n",
       "    <tr>\n",
       "      <th>4</th>\n",
       "      <td>18</td>\n",
       "      <td></td>\n",
       "      <td>103497</td>\n",
       "      <td>some-college</td>\n",
       "      <td>10</td>\n",
       "      <td>never-married</td>\n",
       "      <td></td>\n",
       "      <td>own-child</td>\n",
       "      <td>white</td>\n",
       "      <td>female</td>\n",
       "      <td>0</td>\n",
       "      <td>0</td>\n",
       "      <td>30</td>\n",
       "      <td>united-states</td>\n",
       "      <td>&lt;=50k</td>\n",
       "    </tr>\n",
       "  </tbody>\n",
       "</table>\n",
       "</div>"
      ],
      "text/plain": [
       "  age  workclass  fnlwgt     education education_num      marital_status  \\\n",
       "0  25    private  226802          11th             7       never-married   \n",
       "1  38    private   89814       hs-grad             9  married-civ-spouse   \n",
       "2  28  local-gov  336951    assoc-acdm            12  married-civ-spouse   \n",
       "3  44    private  160323  some-college            10  married-civ-spouse   \n",
       "4  18             103497  some-college            10       never-married   \n",
       "\n",
       "          occupation relationship   race     sex capital_gain capital_loss  \\\n",
       "0  machine-op-inspct    own-child  black    male            0            0   \n",
       "1    farming-fishing      husband  white    male            0            0   \n",
       "2    protective-serv      husband  white    male            0            0   \n",
       "3  machine-op-inspct      husband  black    male         7688            0   \n",
       "4                       own-child  white  female            0            0   \n",
       "\n",
       "  hours_per_week native_country  class  \n",
       "0             40  united-states  <=50k  \n",
       "1             50  united-states  <=50k  \n",
       "2             40  united-states   >50k  \n",
       "3             40  united-states   >50k  \n",
       "4             30  united-states  <=50k  "
      ]
     },
     "execution_count": 24,
     "metadata": {},
     "output_type": "execute_result"
    }
   ],
   "source": [
    "df1.head()"
   ]
  },
  {
   "cell_type": "code",
   "execution_count": 25,
   "id": "3f8d3eb5",
   "metadata": {},
   "outputs": [],
   "source": [
    "df1.to_csv(\"../data/adult.csv\", index=False)"
   ]
  },
  {
   "cell_type": "code",
   "execution_count": 26,
   "id": "419d2bfe",
   "metadata": {},
   "outputs": [
    {
     "name": "stdout",
     "output_type": "stream",
     "text": [
      "<class 'pandas.core.frame.DataFrame'>\n",
      "Int64Index: 48842 entries, 0 to 32560\n",
      "Data columns (total 15 columns):\n",
      " #   Column          Non-Null Count  Dtype \n",
      "---  ------          --------------  ----- \n",
      " 0   age             48842 non-null  object\n",
      " 1   workclass       48842 non-null  object\n",
      " 2   fnlwgt          48842 non-null  object\n",
      " 3   education       48842 non-null  object\n",
      " 4   education_num   48842 non-null  object\n",
      " 5   marital_status  48842 non-null  object\n",
      " 6   occupation      48842 non-null  object\n",
      " 7   relationship    48842 non-null  object\n",
      " 8   race            48842 non-null  object\n",
      " 9   sex             48842 non-null  object\n",
      " 10  capital_gain    48842 non-null  object\n",
      " 11  capital_loss    48842 non-null  object\n",
      " 12  hours_per_week  48842 non-null  object\n",
      " 13  native_country  48842 non-null  object\n",
      " 14  class           48842 non-null  object\n",
      "dtypes: object(15)\n",
      "memory usage: 6.0+ MB\n"
     ]
    }
   ],
   "source": [
    "df1.info()"
   ]
  },
  {
   "cell_type": "code",
   "execution_count": 27,
   "id": "e3509633",
   "metadata": {},
   "outputs": [],
   "source": [
    "df = pd.read_csv(\"../data/adult.csv\")"
   ]
  }
 ],
 "metadata": {
  "kernelspec": {
   "display_name": "Python 3 (ipykernel)",
   "language": "python",
   "name": "python3"
  },
  "language_info": {
   "codemirror_mode": {
    "name": "ipython",
    "version": 3
   },
   "file_extension": ".py",
   "mimetype": "text/x-python",
   "name": "python",
   "nbconvert_exporter": "python",
   "pygments_lexer": "ipython3",
   "version": "3.8.10"
  }
 },
 "nbformat": 4,
 "nbformat_minor": 5
}
